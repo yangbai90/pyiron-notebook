{
 "cells": [
  {
   "cell_type": "markdown",
   "id": "a4f976a6-9f06-4a94-9b61-799e64d35ff6",
   "metadata": {},
   "source": [
    "This is my first notebook for pyiron-continuum project"
   ]
  },
  {
   "cell_type": "markdown",
   "id": "a3f9d55e-f780-4339-b686-28d58d2ddf93",
   "metadata": {},
   "source": [
    "Now let's try to import te pyiron-continuum library"
   ]
  },
  {
   "cell_type": "code",
   "execution_count": 1,
   "id": "e82bf282-809c-4f4e-8b81-9d08a7d775a3",
   "metadata": {},
   "outputs": [],
   "source": [
    "from pyiron_continuum import Project\n",
    "from damask import Rotation"
   ]
  },
  {
   "cell_type": "code",
   "execution_count": 2,
   "id": "8c746160-ac5f-4ea3-ac60-641309dcd0d5",
   "metadata": {},
   "outputs": [],
   "source": [
    "# let's create the project and related folder\n",
    "pr = Project(\"damask_job\")"
   ]
  },
  {
   "cell_type": "code",
   "execution_count": 3,
   "id": "d7a9c314-7b0c-4aa7-a59e-afe6b16c6c2d",
   "metadata": {},
   "outputs": [],
   "source": [
    "# let's clean the previous content\n",
    "pr.remove_jobs_silently(recursive=True)"
   ]
  },
  {
   "cell_type": "code",
   "execution_count": 4,
   "id": "6540d7c4-cc30-42a1-b17f-0a2f1943f0ff",
   "metadata": {},
   "outputs": [],
   "source": [
    "# now we can create a DAMASK type job\n",
    "job = pr.create.job.DAMASK(\"damask_job\")"
   ]
  },
  {
   "cell_type": "code",
   "execution_count": 5,
   "id": "6fc6ada9-c742-4a76-9f7b-253a7824b8d1",
   "metadata": {},
   "outputs": [],
   "source": [
    "# now we can define our geometry\n",
    "grid = pr.continuum.damask.Grid.via_voronoi_tessellation(box_size=1.0e-5,grid_dim=16,num_grains=4)\n",
    "# assing the grid to our job\n",
    "job.grid = grid\n",
    "\n",
    "job.grid.save(\"mygeo\") # save your geometry to vti file"
   ]
  },
  {
   "cell_type": "code",
   "execution_count": 6,
   "id": "88e77bfe-75a9-4296-9198-9f27bbadc2bc",
   "metadata": {},
   "outputs": [],
   "source": [
    "# now we can define the homogenization method\n",
    "homogenization = pr.create.DAMASK.homogenization(method='SX',parameters={'N_constituents':1,\n",
    "                                                                         \"mechanical\":{\"type\":\"pass\"}})"
   ]
  },
  {
   "cell_type": "code",
   "execution_count": 7,
   "id": "367fa90e-7af2-4889-b097-3fe342c09d61",
   "metadata": {},
   "outputs": [],
   "source": [
    "# is this duplicated?\n",
    "homogenization = pr.continuum.damask.Homogenization(method='SX',parameters={'N_constituents':1,\n",
    "                                                                         \"mechanical\":{\"type\":\"pass\"}})"
   ]
  },
  {
   "cell_type": "code",
   "execution_count": 8,
   "id": "944586e0-7f94-4133-9cc1-8560d4b065fe",
   "metadata": {},
   "outputs": [],
   "source": [
    "# now we can define the elasticity\n",
    "elasticity = pr.continuum.damask.Elasticity(type='Hooke',C_11= 106.75e9,C_12= 60.41e9, C_44=28.34e9) # unit is Pa"
   ]
  },
  {
   "cell_type": "code",
   "execution_count": 9,
   "id": "46ab9f45-1368-44d3-b0d3-1027ca10bc24",
   "metadata": {},
   "outputs": [],
   "source": [
    "# now we can define the plasticity model and input the related parameters\n",
    "plasticity = pr.continuum.damask.Plasticity(N_sl=[12], a_sl=2.25, \n",
    "                                   atol_xi=1.0, dot_gamma_0_sl=0.001,\n",
    "                                   h_0_sl_sl=75e6, h_sl_sl=[1, 1, 1.4, 1.4, 1.4, 1.4],\n",
    "                                   n_sl=20, output=['xi_sl'], type='phenopowerlaw',\n",
    "                                   xi_0_sl=[31e6], xi_inf_sl=[63e6])"
   ]
  },
  {
   "cell_type": "code",
   "execution_count": 10,
   "id": "2885b193-a19a-4558-9d96-e075bdd883f8",
   "metadata": {},
   "outputs": [],
   "source": [
    "# now we can define the phase for current job\n",
    "phase = pr.continuum.damask.Phase(composition='Aluminum', lattice= 'cF',\n",
    "                         output_list=['F', 'P', 'F_e', 'F_p', 'L_p', 'O'],\n",
    "                         elasticity=elasticity, plasticity=plasticity)"
   ]
  },
  {
   "cell_type": "code",
   "execution_count": 11,
   "id": "4ec77d6e-b1ef-4487-b799-51852b297b89",
   "metadata": {},
   "outputs": [
    {
     "name": "stdout",
     "output_type": "stream",
     "text": [
      "material:\n",
      "  - constituents:\n",
      "      - O: [0.29485788241683925, -0.11002293577315385, -0.8968088054809722, 0.31094653751457924]\n",
      "        phase: Aluminum\n",
      "        v: 1.0\n",
      "    homogenization: SX\n",
      "\n",
      "phase:\n",
      "  Aluminum:\n",
      "    lattice: cF\n",
      "    mechanical:\n",
      "      output: [F, P, F_e, F_p, L_p, O]\n",
      "      elastic: {type: Hooke, C_11: 106750000000.0, C_12: 60410000000.0, C_44: 28340000000.0}\n",
      "      plasticity:\n",
      "        N_sl: [12]\n",
      "        a_sl: 2.25\n",
      "        atol_xi: 1.0\n",
      "        dot_gamma_0_sl: 0.001\n",
      "        h_0_sl_sl: 75000000.0\n",
      "        h_sl_sl: [1, 1, 1.4, 1.4, 1.4, 1.4]\n",
      "        n_sl: 20\n",
      "        output: [xi_sl]\n",
      "        type: phenopowerlaw\n",
      "        xi_0_sl: [31000000.0]\n",
      "        xi_inf_sl: [63000000.0]\n",
      "\n",
      "homogenization:\n",
      "  SX:\n",
      "    N_constituents: 1\n",
      "    mechanical: {type: pass}\n",
      "\n"
     ]
    }
   ],
   "source": [
    "# create the orientation for grains in our RVE\n",
    "rotation = pr.continuum.damask.Rotation(Rotation.from_random,10)\n",
    "# then we can setup the material yaml\n",
    "\n",
    "# this one seems only give one grain?\n",
    "material = pr.continuum.damask.Material(rotation=rotation,elements=['Aluminum'],homogenization=homogenization,phase=phase)\n",
    "print(material)\n",
    "\n",
    "material = pr.continuum.damask.Material([rotation],elements=['Aluminum'],homogenization=homogenization,phase=phase)"
   ]
  },
  {
   "cell_type": "code",
   "execution_count": 12,
   "id": "246f834c-b89a-4d7a-9855-90c551747e31",
   "metadata": {},
   "outputs": [],
   "source": [
    "# now we can assign the material to our job\n",
    "job.material = material\n",
    "job.material.save() # this will save the current configuration to 'material.yaml'"
   ]
  },
  {
   "cell_type": "code",
   "execution_count": 13,
   "id": "434c1530-8e1d-4c52-9223-dd3c0331cd5f",
   "metadata": {},
   "outputs": [
    {
     "name": "stdout",
     "output_type": "stream",
     "text": [
      "material:\n",
      "  - constituents:\n",
      "      - O: [0.29485788241683925, -0.11002293577315385, -0.8968088054809722, 0.31094653751457924]\n",
      "        phase: Aluminum\n",
      "        v: 1.0\n",
      "    homogenization: SX\n",
      "  - constituents:\n",
      "      - O: [0.6764648880468285, 0.005846125599514117, 0.5930185897320445, 0.436680696032563]\n",
      "        phase: Aluminum\n",
      "        v: 1.0\n",
      "    homogenization: SX\n",
      "  - constituents:\n",
      "      - O: [0.6091808046230107, -0.098962159404594, 0.04210506632706635, -0.7857050347773229]\n",
      "        phase: Aluminum\n",
      "        v: 1.0\n",
      "    homogenization: SX\n",
      "  - constituents:\n",
      "      - O: [0.03585816784591728, -0.7626476538598055, -0.5578521402612656, 0.32539781417027586]\n",
      "        phase: Aluminum\n",
      "        v: 1.0\n",
      "    homogenization: SX\n",
      "  - constituents:\n",
      "      - O: [0.9558095073329061, -0.2479119070960596, 0.07969224848609123, -0.1364441920466124]\n",
      "        phase: Aluminum\n",
      "        v: 1.0\n",
      "    homogenization: SX\n",
      "  - constituents:\n",
      "      - O: [0.21213191076892593, -0.5040586309085399, 0.5905879041387748, -0.5934061648863299]\n",
      "        phase: Aluminum\n",
      "        v: 1.0\n",
      "    homogenization: SX\n",
      "  - constituents:\n",
      "      - O: [0.23189260582763596, 0.13516411171480666, -0.9610216773152922, 0.06628588082629898]\n",
      "        phase: Aluminum\n",
      "        v: 1.0\n",
      "    homogenization: SX\n",
      "  - constituents:\n",
      "      - O: [0.4383399110571919, -0.817160641693973, -0.3645851610765662, 0.08476006349361485]\n",
      "        phase: Aluminum\n",
      "        v: 1.0\n",
      "    homogenization: SX\n",
      "  - constituents:\n",
      "      - O: [0.3362142668166457, -0.3168453084942789, 0.3952772454175738, -0.7939300451105284]\n",
      "        phase: Aluminum\n",
      "        v: 1.0\n",
      "    homogenization: SX\n",
      "  - constituents:\n",
      "      - O: [0.3896738357912507, 0.33324789024024837, 0.17092597623309885, -0.8413586963946583]\n",
      "        phase: Aluminum\n",
      "        v: 1.0\n",
      "    homogenization: SX\n",
      "\n",
      "phase:\n",
      "  Aluminum:\n",
      "    lattice: cF\n",
      "    mechanical:\n",
      "      output: [F, P, F_e, F_p, L_p, O]\n",
      "      elastic: {type: Hooke, C_11: 106750000000.0, C_12: 60410000000.0, C_44: 28340000000.0}\n",
      "      plasticity:\n",
      "        N_sl: [12]\n",
      "        a_sl: 2.25\n",
      "        atol_xi: 1.0\n",
      "        dot_gamma_0_sl: 0.001\n",
      "        h_0_sl_sl: 75000000.0\n",
      "        h_sl_sl: [1, 1, 1.4, 1.4, 1.4, 1.4]\n",
      "        n_sl: 20\n",
      "        output: [xi_sl]\n",
      "        type: phenopowerlaw\n",
      "        xi_0_sl: [31000000.0]\n",
      "        xi_inf_sl: [63000000.0]\n",
      "\n",
      "homogenization:\n",
      "  SX:\n",
      "    N_constituents: 1\n",
      "    mechanical: {type: pass}\n",
      "\n"
     ]
    }
   ],
   "source": [
    "# you can check the material via:\n",
    "print(job.material)"
   ]
  },
  {
   "cell_type": "code",
   "execution_count": 14,
   "id": "87c2e58e-f6e7-425e-8d4f-5988af71473e",
   "metadata": {},
   "outputs": [
    {
     "name": "stdout",
     "output_type": "stream",
     "text": [
      "[{'mechanical': 'spectral_basic'}, {'mechanical': 'spectral_polarization'}, {'mechanical': 'FEM'}]\n"
     ]
    }
   ],
   "source": [
    "# then, we can create the loading step\n",
    "myloading = [{'mech_bc_dict':{'dot_F':[1e-3,0,0, 0,'x',0,  0,0,'x'],\n",
    "                            'P':['x','x','x', 'x',0,'x',  'x','x',0]},\n",
    "            'discretization':{'t': 10.,'N': 40},\n",
    "            'additional': {'f_out': 4}\n",
    "           },{'mech_bc_dict':{'dot_F':[1e-3,0,0, 0,'x',0,  0,0,'x'],\n",
    "                              'P':['x','x','x', 'x',0,'x',  'x','x',0]},\n",
    "            'discretization':{'t': 60.,'N': 60},\n",
    "            'additional': {'f_out': 4}\n",
    "           }]\n",
    "# choose a solver(currently, only mechanics)\n",
    "print(job.list_solvers()) # list out all the solver"
   ]
  },
  {
   "cell_type": "code",
   "execution_count": 15,
   "id": "35206fc1-fdb6-40f0-8ad9-4f9cf83ef5da",
   "metadata": {},
   "outputs": [],
   "source": [
    "mechsolver = job.list_solvers()[0] # here we choose the mechanics solver\n",
    "\n",
    "# assign the loaidng to our job\n",
    "job.loading = pr.continuum.damask.Loading(solver=mechsolver, load_steps=myloading)\n",
    "\n",
    "job.loading.save(\"myload.yaml\") # save our loading yaml file"
   ]
  },
  {
   "cell_type": "code",
   "execution_count": 20,
   "id": "94f9406e-b53a-4896-b48e-d1869984cda0",
   "metadata": {},
   "outputs": [],
   "source": [
    "job.run()"
   ]
  },
  {
   "cell_type": "code",
   "execution_count": null,
   "id": "3499c46d-340a-460c-b472-cfd9dddabbbf",
   "metadata": {},
   "outputs": [],
   "source": []
  }
 ],
 "metadata": {
  "kernelspec": {
   "display_name": "Python 3 (ipykernel)",
   "language": "python",
   "name": "python3"
  },
  "language_info": {
   "codemirror_mode": {
    "name": "ipython",
    "version": 3
   },
   "file_extension": ".py",
   "mimetype": "text/x-python",
   "name": "python",
   "nbconvert_exporter": "python",
   "pygments_lexer": "ipython3",
   "version": "3.8.10"
  }
 },
 "nbformat": 4,
 "nbformat_minor": 5
}
